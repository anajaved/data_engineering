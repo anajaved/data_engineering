{
 "cells": [
  {
   "cell_type": "code",
   "execution_count": 7,
   "metadata": {},
   "outputs": [
    {
     "data": {
      "text/html": [
       "<pre style=\"white-space:pre;overflow-x:auto;line-height:normal;font-family:Menlo,'DejaVu Sans Mono',consolas,'Courier New',monospace\"><span style=\"color: #808000; text-decoration-color: #808000; font-weight: bold\">/var/folders/md/b9gwzs7n1sn16v24b0j0fl780000gn/T/ipykernel_10045/3487587676.py:</span><span style=\"color: #808000; text-decoration-color: #808000; font-weight: bold\">6</span><span style=\"color: #808000; text-decoration-color: #808000; font-weight: bold\"> DeprecationWarning</span><span style=\"color: #808000; text-decoration-color: #808000\">: The `airflow.operators.bash_operator.BashOperator` class is deprecated. Please use `</span><span style=\"color: #808000; text-decoration-color: #808000\">'airflow.operators.bash.BashOperator'</span><span style=\"color: #808000; text-decoration-color: #808000\">`.</span>\n",
       "</pre>\n"
      ],
      "text/plain": [
       "\u001b[1;33m/var/folders/md/b9gwzs7n1sn16v24b0j0fl780000gn/T/ipykernel_10045/\u001b[0m\u001b[1;33m3487587676.py\u001b[0m\u001b[1;33m:\u001b[0m\u001b[1;33m6\u001b[0m\u001b[1;33m DeprecationWarning\u001b[0m\u001b[33m: The `airflow.operators.bash_operator.BashOperator` class is deprecated. Please use `\u001b[0m\u001b[33m'airflow.operators.bash.BashOperator'\u001b[0m\u001b[33m`.\u001b[0m\n"
      ]
     },
     "metadata": {},
     "output_type": "display_data"
    }
   ],
   "source": [
    "# import the libraries\n",
    "from datetime import datetime, timedelta\n",
    "# The DAG object; we'll need this to instantiate a DAG\n",
    "from airflow.models import DAG\n",
    "# Operators; you need this to write tasks!\n",
    "from airflow.operators.bash_operator import BashOperator\n",
    "# from airflow.operators.python import PythonOperator\n",
    "# from airflow.operators.email import EmailOperator"
   ]
  },
  {
   "cell_type": "code",
   "execution_count": 11,
   "metadata": {},
   "outputs": [],
   "source": [
    "#defining DAG arguments\n",
    "# You can override them on a per-task basis during operator initialization\n",
    "default_args = {\n",
    "    'owner': 'Ana',\n",
    "    'start_date': datetime(2024, 7, 17),\n",
    "    'retries': 1,\n",
    "    'retry_delay': timedelta(minutes=5),\n",
    "}"
   ]
  },
  {
   "cell_type": "code",
   "execution_count": 13,
   "metadata": {},
   "outputs": [],
   "source": [
    "# define the DAG\n",
    "dag = DAG(\n",
    "    'simple_ex_DAG',\n",
    "    default_args=default_args,\n",
    "    description='A simple DAG',\n",
    "    schedule = timedelta(seconds=5)\n",
    ")"
   ]
  },
  {
   "cell_type": "code",
   "execution_count": 14,
   "metadata": {},
   "outputs": [],
   "source": [
    "# define the tasks\n",
    "# define a task with BashOperator\n",
    "task1 = BashOperator(\n",
    "    task_id='print_hello',\n",
    "    bash_command='echo \\'Greetings, the date and time are \\'',\n",
    "    dag=dag,\n",
    ")\n",
    "\n",
    "# define a task with BashOperator\n",
    "task2 = BashOperator(\n",
    "    task_id='print_date',\n",
    "    bash_command='date',\n",
    "    dag=dag,\n",
    ")"
   ]
  },
  {
   "cell_type": "code",
   "execution_count": 15,
   "metadata": {},
   "outputs": [
    {
     "data": {
      "text/plain": [
       "<Task(BashOperator): print_date>"
      ]
     },
     "execution_count": 15,
     "metadata": {},
     "output_type": "execute_result"
    }
   ],
   "source": [
    "\n",
    "# task pipeline\n",
    "task1 >> task2 "
   ]
  },
  {
   "cell_type": "code",
   "execution_count": null,
   "metadata": {},
   "outputs": [],
   "source": [
    "# Alternative pipeline definition\n",
    "# task1.set_downstream(task2)"
   ]
  }
 ],
 "metadata": {
  "kernelspec": {
   "display_name": "Python 3",
   "language": "python",
   "name": "python3"
  },
  "language_info": {
   "codemirror_mode": {
    "name": "ipython",
    "version": 3
   },
   "file_extension": ".py",
   "mimetype": "text/x-python",
   "name": "python",
   "nbconvert_exporter": "python",
   "pygments_lexer": "ipython3",
   "version": "3.12.1"
  }
 },
 "nbformat": 4,
 "nbformat_minor": 2
}
