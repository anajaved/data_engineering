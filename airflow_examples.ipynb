{
 "cells": [
  {
   "cell_type": "code",
   "execution_count": 2,
   "metadata": {},
   "outputs": [
    {
     "ename": "ModuleNotFoundError",
     "evalue": "No module named 'airflow'",
     "output_type": "error",
     "traceback": [
      "\u001b[0;31m---------------------------------------------------------------------------\u001b[0m",
      "\u001b[0;31mModuleNotFoundError\u001b[0m                       Traceback (most recent call last)",
      "Cell \u001b[0;32mIn[2], line 4\u001b[0m\n\u001b[1;32m      2\u001b[0m \u001b[38;5;28;01mfrom\u001b[39;00m \u001b[38;5;21;01mdatetime\u001b[39;00m \u001b[38;5;28;01mimport\u001b[39;00m timedelta\n\u001b[1;32m      3\u001b[0m \u001b[38;5;66;03m# The DAG object; we'll need this to instantiate a DAG\u001b[39;00m\n\u001b[0;32m----> 4\u001b[0m \u001b[38;5;28;01mfrom\u001b[39;00m \u001b[38;5;21;01mairflow\u001b[39;00m\u001b[38;5;21;01m.\u001b[39;00m\u001b[38;5;21;01mmodels\u001b[39;00m \u001b[38;5;28;01mimport\u001b[39;00m DAG\n\u001b[1;32m      5\u001b[0m \u001b[38;5;66;03m# Operators; you need this to write tasks!\u001b[39;00m\n\u001b[1;32m      6\u001b[0m \u001b[38;5;28;01mfrom\u001b[39;00m \u001b[38;5;21;01mairflow\u001b[39;00m\u001b[38;5;21;01m.\u001b[39;00m\u001b[38;5;21;01moperators\u001b[39;00m\u001b[38;5;21;01m.\u001b[39;00m\u001b[38;5;21;01mbash_operator\u001b[39;00m \u001b[38;5;28;01mimport\u001b[39;00m BashOperator\n",
      "\u001b[0;31mModuleNotFoundError\u001b[0m: No module named 'airflow'"
     ]
    }
   ],
   "source": [
    "# import the libraries\n",
    "from datetime import timedelta\n",
    "# The DAG object; we'll need this to instantiate a DAG\n",
    "from airflow.models import DAG\n",
    "# Operators; you need this to write tasks!\n",
    "from airflow.operators.bash_operator import BashOperator\n",
    "from airflow.operators.python import PythonOperator\n",
    "from airflow.operators.email import EmailOperator"
   ]
  },
  {
   "cell_type": "code",
   "execution_count": 3,
   "metadata": {},
   "outputs": [
    {
     "ename": "NameError",
     "evalue": "name 'days_ago' is not defined",
     "output_type": "error",
     "traceback": [
      "\u001b[0;31m---------------------------------------------------------------------------\u001b[0m",
      "\u001b[0;31mNameError\u001b[0m                                 Traceback (most recent call last)",
      "Cell \u001b[0;32mIn[3], line 5\u001b[0m\n\u001b[1;32m      1\u001b[0m \u001b[38;5;66;03m#defining DAG arguments\u001b[39;00m\n\u001b[1;32m      2\u001b[0m \u001b[38;5;66;03m# You can override them on a per-task basis during operator initialization\u001b[39;00m\n\u001b[1;32m      3\u001b[0m default_args \u001b[38;5;241m=\u001b[39m {\n\u001b[1;32m      4\u001b[0m     \u001b[38;5;124m'\u001b[39m\u001b[38;5;124mowner\u001b[39m\u001b[38;5;124m'\u001b[39m: \u001b[38;5;124m'\u001b[39m\u001b[38;5;124mYour name\u001b[39m\u001b[38;5;124m'\u001b[39m,\n\u001b[0;32m----> 5\u001b[0m     \u001b[38;5;124m'\u001b[39m\u001b[38;5;124mstart_date\u001b[39m\u001b[38;5;124m'\u001b[39m: \u001b[43mdays_ago\u001b[49m(\u001b[38;5;241m0\u001b[39m),\n\u001b[1;32m      6\u001b[0m     \u001b[38;5;124m'\u001b[39m\u001b[38;5;124memail\u001b[39m\u001b[38;5;124m'\u001b[39m: [\u001b[38;5;124m'\u001b[39m\u001b[38;5;124myouemail@somemail.com\u001b[39m\u001b[38;5;124m'\u001b[39m],\n\u001b[1;32m      7\u001b[0m     \u001b[38;5;124m'\u001b[39m\u001b[38;5;124mretries\u001b[39m\u001b[38;5;124m'\u001b[39m: \u001b[38;5;241m1\u001b[39m,\n\u001b[1;32m      8\u001b[0m     \u001b[38;5;124m'\u001b[39m\u001b[38;5;124mretry_delay\u001b[39m\u001b[38;5;124m'\u001b[39m: timedelta(minutes\u001b[38;5;241m=\u001b[39m\u001b[38;5;241m5\u001b[39m),\n\u001b[1;32m      9\u001b[0m }\n",
      "\u001b[0;31mNameError\u001b[0m: name 'days_ago' is not defined"
     ]
    }
   ],
   "source": [
    "#defining DAG arguments\n",
    "# You can override them on a per-task basis during operator initialization\n",
    "default_args = {\n",
    "    'owner': 'Your name',\n",
    "    'start_date': days_ago(0),\n",
    "    'email': ['youemail@somemail.com'],\n",
    "    'retries': 1,\n",
    "    'retry_delay': timedelta(minutes=5),\n",
    "}"
   ]
  },
  {
   "cell_type": "code",
   "execution_count": null,
   "metadata": {},
   "outputs": [],
   "source": [
    "# define the DAG\n",
    "dag = DAG(\n",
    "    dag_id='unique_id_for_DAG',\n",
    "    default_args=default_args,\n",
    "    description='A simple description of what the DAG does',\n",
    "    schedule_interval=timedelta(days=1),\n",
    ")"
   ]
  },
  {
   "cell_type": "code",
   "execution_count": null,
   "metadata": {},
   "outputs": [],
   "source": [
    "# define the tasks\n",
    "# define a task with BashOperator\n",
    "task1 = BashOperator(\n",
    "    task_id='unique_task_id',\n",
    "    bash_command='<some bashcommand>',\n",
    "    dag=dag,\n",
    ")\n",
    "\n",
    "# define a task with PythonOperator\n",
    "task2 = PythonOperator(\n",
    "    task_id='bash_task',\n",
    "    python_callable=<the python function to be called>,\n",
    "    dag=dag,\n",
    ")\n",
    "\n",
    "# define a task with EmailOperator\n",
    "task3 = EmailOperator(\n",
    "    task_id='mail_task',\n",
    "    to='recipient@example.com',\n",
    "    subject='Airflow Email Operator example',\n",
    "    html_content='<p>This is a test email sent from Airflow.</p>',\n",
    "    dag=dag,\n",
    ")"
   ]
  },
  {
   "cell_type": "code",
   "execution_count": null,
   "metadata": {},
   "outputs": [],
   "source": [
    "\n",
    "# task pipeline\n",
    "task1 >> task2 >> task3"
   ]
  },
  {
   "cell_type": "code",
   "execution_count": null,
   "metadata": {},
   "outputs": [],
   "source": [
    "# Alternative pipeline definition\n",
    "task1.set_downstream(task2)\n",
    "task3.set_upstream(task2)"
   ]
  }
 ],
 "metadata": {
  "kernelspec": {
   "display_name": "Python 3",
   "language": "python",
   "name": "python3"
  },
  "language_info": {
   "codemirror_mode": {
    "name": "ipython",
    "version": 3
   },
   "file_extension": ".py",
   "mimetype": "text/x-python",
   "name": "python",
   "nbconvert_exporter": "python",
   "pygments_lexer": "ipython3",
   "version": "3.12.1"
  }
 },
 "nbformat": 4,
 "nbformat_minor": 2
}
