{
 "cells": [
  {
   "cell_type": "markdown",
   "metadata": {},
   "source": [
    "## Project Submission and Peer Review -- Author: Ana Javed"
   ]
  },
  {
   "cell_type": "markdown",
   "metadata": {},
   "source": [
    "### Exercise 1: Create imports, DAG argument, and Defintion"
   ]
  },
  {
   "cell_type": "code",
   "execution_count": 1,
   "metadata": {},
   "outputs": [
    {
     "data": {
      "text/html": [
       "<pre style=\"white-space:pre;overflow-x:auto;line-height:normal;font-family:Menlo,'DejaVu Sans Mono',consolas,'Courier New',monospace\"><span style=\"color: #808000; text-decoration-color: #808000; font-weight: bold\">/var/folders/md/b9gwzs7n1sn16v24b0j0fl780000gn/T/ipykernel_25885/2383921709.py:</span><span style=\"color: #808000; text-decoration-color: #808000; font-weight: bold\">3</span><span style=\"color: #808000; text-decoration-color: #808000; font-weight: bold\"> DeprecationWarning</span><span style=\"color: #808000; text-decoration-color: #808000\">: The `airflow.operators.bash_operator.BashOperator` class is deprecated. Please use `</span><span style=\"color: #808000; text-decoration-color: #808000\">'airflow.operators.bash.BashOperator'</span><span style=\"color: #808000; text-decoration-color: #808000\">`.</span>\n",
       "</pre>\n"
      ],
      "text/plain": [
       "\u001b[1;33m/var/folders/md/b9gwzs7n1sn16v24b0j0fl780000gn/T/ipykernel_25885/\u001b[0m\u001b[1;33m2383921709.py\u001b[0m\u001b[1;33m:\u001b[0m\u001b[1;33m3\u001b[0m\u001b[1;33m DeprecationWarning\u001b[0m\u001b[33m: The `airflow.operators.bash_operator.BashOperator` class is deprecated. Please use `\u001b[0m\u001b[33m'airflow.operators.bash.BashOperator'\u001b[0m\u001b[33m`.\u001b[0m\n"
      ]
     },
     "metadata": {},
     "output_type": "display_data"
    }
   ],
   "source": [
    "from datetime import datetime, timedelta\n",
    "from airflow.models import DAG\n",
    "from airflow.operators.bash_operator import BashOperator\n",
    "\n",
    "# Task 1.1: Define DAG arguments \n",
    "default_args = {\n",
    "    'owner': 'Ana',\n",
    "    'start_date': datetime(2024, 7, 17),\n",
    "    'retries': 1,\n",
    "    'retry_delay': timedelta(minutes=5),\n",
    "}\n"
   ]
  },
  {
   "cell_type": "code",
   "execution_count": 2,
   "metadata": {},
   "outputs": [],
   "source": [
    "# Task 1.2: Define the DAG\n",
    "dag = DAG(\n",
    "    'final_project_DAG',\n",
    "    default_args=default_args,\n",
    "    description='final DAG project for coursework',\n",
    "    schedule = timedelta(seconds=5)\n",
    ")"
   ]
  },
  {
   "cell_type": "markdown",
   "metadata": {},
   "source": [
    "### Exercise 2: Create the tasks using BashOperator"
   ]
  },
  {
   "cell_type": "code",
   "execution_count": 3,
   "metadata": {},
   "outputs": [],
   "source": [
    "# Task 2.1: Create a task to unzip data.\n",
    "task1 = BashOperator(\n",
    "    task_id='unzip_file',\n",
    "    bash_command='unzip ecommerce.zip',\n",
    "    dag=dag,\n",
    ")"
   ]
  },
  {
   "cell_type": "code",
   "execution_count": 4,
   "metadata": {},
   "outputs": [],
   "source": [
    "# Task 2.2: Create a task to extract data from csv file\n",
    "task2 = BashOperator(\n",
    "    task_id='extract_csv',\n",
    "    bash_command='cat Ecommerce_data.csv',\n",
    "    dag=dag,\n",
    ")"
   ]
  },
  {
   "cell_type": "code",
   "execution_count": 5,
   "metadata": {},
   "outputs": [],
   "source": [
    "# Task 2.3: Create a task to extract data from tsv file\n",
    "task3 = BashOperator(\n",
    "    task_id='extract_tsv',\n",
    "    bash_command='cat Ecommerce_data_tsv.txt',\n",
    "    dag=dag,\n",
    ")"
   ]
  },
  {
   "cell_type": "code",
   "execution_count": 6,
   "metadata": {},
   "outputs": [],
   "source": [
    "# Task 2.4: Create a task to extract data from fixed width file\n",
    "task4 = BashOperator(\n",
    "    task_id='extract_txt',\n",
    "    bash_command='cat Ecommerce_data_fw.txt',\n",
    "    dag=dag,\n",
    ")"
   ]
  },
  {
   "cell_type": "code",
   "execution_count": 7,
   "metadata": {},
   "outputs": [],
   "source": [
    "# Task 2.5: Create a task to consolidate data extracted from previous tasks\n",
    "task5 = BashOperator(\n",
    "    task_id='combine_data',\n",
    "    bash_command='cat Ecommerce_data.csv Ecommerce_data_tsv.txt Ecommerce_data_fw.txt >> all.txt',\n",
    "    dag=dag,\n",
    ")"
   ]
  },
  {
   "cell_type": "code",
   "execution_count": 8,
   "metadata": {},
   "outputs": [],
   "source": [
    "\n",
    "# Task 2.6: Transform the data\n",
    "task6 = BashOperator(\n",
    "    task_id='transform_data',\n",
    "    bash_command='sort all.txt >> sorted.txt',\n",
    "    dag=dag,\n",
    ")"
   ]
  },
  {
   "cell_type": "code",
   "execution_count": 9,
   "metadata": {},
   "outputs": [
    {
     "data": {
      "text/plain": [
       "<Task(BashOperator): transform_data>"
      ]
     },
     "execution_count": 9,
     "metadata": {},
     "output_type": "execute_result"
    }
   ],
   "source": [
    "\n",
    "# Task 2.7: Define the task pipeline\n",
    "task1 >> task2 >> task3 >> task4 >> task5 >> task6"
   ]
  },
  {
   "cell_type": "markdown",
   "metadata": {},
   "source": [
    "### Exercise 3: Getting the DAG operational"
   ]
  },
  {
   "cell_type": "code",
   "execution_count": null,
   "metadata": {},
   "outputs": [],
   "source": [
    "# # Task 3.1: Submit the DAG \n",
    "export AIRFLOW_HOME=/home/project/airflow\n",
    "echo $AIRFLOW_HOME\n",
    "cp airflow_submission_project.py $AIRFLOW_HOME/dags\n",
    "\n",
    "# # Task 3.3: List the DAG tasks\n",
    "# airflow tasks list airflow_submission_project\n",
    "\n",
    "# # Task 3.4: Monitor the DAG \n",
    "\n"
   ]
  }
 ],
 "metadata": {
  "kernelspec": {
   "display_name": "Python 3",
   "language": "python",
   "name": "python3"
  },
  "language_info": {
   "codemirror_mode": {
    "name": "ipython",
    "version": 3
   },
   "file_extension": ".py",
   "mimetype": "text/x-python",
   "name": "python",
   "nbconvert_exporter": "python",
   "pygments_lexer": "ipython3",
   "version": "3.12.1"
  }
 },
 "nbformat": 4,
 "nbformat_minor": 2
}
