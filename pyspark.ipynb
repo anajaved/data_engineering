{
  "nbformat": 4,
  "nbformat_minor": 0,
  "metadata": {
    "colab": {
      "provenance": []
    },
    "kernelspec": {
      "name": "python3",
      "display_name": "Python 3"
    },
    "language_info": {
      "name": "python"
    }
  },
  "cells": [
    {
      "cell_type": "code",
      "execution_count": 1,
      "metadata": {
        "colab": {
          "base_uri": "https://localhost:8080/"
        },
        "id": "LdGhiCiNaLfL",
        "outputId": "fc27f1b2-e45b-4eaa-b6f8-ed07f73f358b"
      },
      "outputs": [
        {
          "output_type": "stream",
          "name": "stdout",
          "text": [
            "Collecting pyspark\n",
            "  Downloading pyspark-3.5.1.tar.gz (317.0 MB)\n",
            "\u001b[2K     \u001b[90m━━━━━━━━━━━━━━━━━━━━━━━━━━━━━━━━━━━━━━━━\u001b[0m \u001b[32m317.0/317.0 MB\u001b[0m \u001b[31m3.6 MB/s\u001b[0m eta \u001b[36m0:00:00\u001b[0m\n",
            "\u001b[?25h  Preparing metadata (setup.py) ... \u001b[?25l\u001b[?25hdone\n",
            "Requirement already satisfied: py4j==0.10.9.7 in /usr/local/lib/python3.10/dist-packages (from pyspark) (0.10.9.7)\n",
            "Building wheels for collected packages: pyspark\n",
            "  Building wheel for pyspark (setup.py) ... \u001b[?25l\u001b[?25hdone\n",
            "  Created wheel for pyspark: filename=pyspark-3.5.1-py2.py3-none-any.whl size=317488491 sha256=0e5062a432bee26003ba19eefb0f241e0af17b2a185c565cde163bbcfc97283f\n",
            "  Stored in directory: /root/.cache/pip/wheels/80/1d/60/2c256ed38dddce2fdd93be545214a63e02fbd8d74fb0b7f3a6\n",
            "Successfully built pyspark\n",
            "Installing collected packages: pyspark\n",
            "Successfully installed pyspark-3.5.1\n"
          ]
        }
      ],
      "source": [
        "!pip install pyspark"
      ]
    },
    {
      "cell_type": "code",
      "source": [
        "import pyspark as ps\n",
        "\n",
        "sc = ps.SparkContext.getOrCreate()"
      ],
      "metadata": {
        "id": "uM5mrqW7aOm0"
      },
      "execution_count": 2,
      "outputs": []
    },
    {
      "cell_type": "code",
      "source": [
        "# Creating RDDs\n",
        "numbers = list(range(15))\n",
        "rdd = sc.parallelize(numbers)\n",
        "\n",
        "print(\"List Count: \", rdd.count())\n",
        "print(\"List Max: \", rdd.max())\n",
        "print(\"List Min: \", rdd.min())\n",
        "print(\"List Mean: \", rdd.mean())\n",
        "print(\"\\n\")\n",
        "# Squaring Original RDD values\n",
        "rdd2 = rdd.map(lambda x : x**2 )\n",
        "print(\"Squared List Count: \", rdd2.count())\n",
        "print(\"Squared List Max: \", rdd2.max())\n",
        "print(\"Squared List Min: \", rdd2.min())\n",
        "print(\"Squared List Mean: \", rdd2.mean())\n",
        "print(\"\\n\")\n",
        "# Creating RDD with even values\n",
        "even = rdd2.filter(lambda x : x % 2 == 0)\n",
        "print(\"Even List Count: \", even.count())\n",
        "print(\"Even List Max: \", even.max())\n",
        "print(\"Even List Min: \", even.min())\n",
        "print(\"Even List Mean: \", even.mean())\n"
      ],
      "metadata": {
        "colab": {
          "base_uri": "https://localhost:8080/"
        },
        "id": "2HmPBiGCbDF2",
        "outputId": "c30c6d85-ef22-4eac-ee61-fb9a74dafdb4"
      },
      "execution_count": 3,
      "outputs": [
        {
          "output_type": "stream",
          "name": "stdout",
          "text": [
            "List Count:  15\n",
            "List Max:  14\n",
            "List Min:  0\n",
            "List Mean:  7.0\n",
            "\n",
            "\n",
            "Squared List Count:  15\n",
            "Squared List Max:  196\n",
            "Squared List Min:  0\n",
            "Squared List Mean:  67.66666666666667\n",
            "\n",
            "\n",
            "Even List Count:  8\n",
            "Even List Max:  196\n",
            "Even List Min:  0\n",
            "Even List Mean:  70.0\n"
          ]
        }
      ]
    },
    {
      "cell_type": "code",
      "source": [
        "# Dataframes\n",
        "\n",
        "from pyspark.sql import SparkSession\n",
        "\n",
        "# Creating Session Object\n",
        "spark = SparkSession \\\n",
        "  .builder \\\n",
        "  .appName(\"Pyspark_Example\") \\\n",
        "  .config(\"spark.some.config.option\", \"some-value\") \\\n",
        "  .getOrCreate()"
      ],
      "metadata": {
        "id": "4gvvdN2fbNke"
      },
      "execution_count": 9,
      "outputs": []
    },
    {
      "cell_type": "code",
      "source": [
        "spark"
      ],
      "metadata": {
        "colab": {
          "base_uri": "https://localhost:8080/",
          "height": 221
        },
        "id": "PsbvboFrSyeg",
        "outputId": "a28354c5-4ec8-4731-e020-86febed07294"
      },
      "execution_count": 10,
      "outputs": [
        {
          "output_type": "execute_result",
          "data": {
            "text/plain": [
              "<pyspark.sql.session.SparkSession at 0x786f8e952d40>"
            ],
            "text/html": [
              "\n",
              "            <div>\n",
              "                <p><b>SparkSession - in-memory</b></p>\n",
              "                \n",
              "        <div>\n",
              "            <p><b>SparkContext</b></p>\n",
              "\n",
              "            <p><a href=\"http://761120e45e66:4040\">Spark UI</a></p>\n",
              "\n",
              "            <dl>\n",
              "              <dt>Version</dt>\n",
              "                <dd><code>v3.5.1</code></dd>\n",
              "              <dt>Master</dt>\n",
              "                <dd><code>local[*]</code></dd>\n",
              "              <dt>AppName</dt>\n",
              "                <dd><code>pyspark-shell</code></dd>\n",
              "            </dl>\n",
              "        </div>\n",
              "        \n",
              "            </div>\n",
              "        "
            ]
          },
          "metadata": {},
          "execution_count": 10
        }
      ]
    },
    {
      "cell_type": "code",
      "source": [
        "# Reading csv with headers\n",
        "\n",
        "accounts = spark.read.option(\"header\", 'true').csv('Ecommerce_data.csv')"
      ],
      "metadata": {
        "id": "c9Vwf0xhTIhy"
      },
      "execution_count": 15,
      "outputs": []
    },
    {
      "cell_type": "code",
      "source": [
        "accounts"
      ],
      "metadata": {
        "colab": {
          "base_uri": "https://localhost:8080/"
        },
        "id": "iblStKADS3ux",
        "outputId": "3218fb87-a4e2-43be-b35e-87dacd146f34"
      },
      "execution_count": 16,
      "outputs": [
        {
          "output_type": "execute_result",
          "data": {
            "text/plain": [
              "DataFrame[Text: string, label: string]"
            ]
          },
          "metadata": {},
          "execution_count": 16
        }
      ]
    },
    {
      "cell_type": "code",
      "source": [
        "# Looking at schema\n",
        "\n",
        "accounts.printSchema()"
      ],
      "metadata": {
        "colab": {
          "base_uri": "https://localhost:8080/"
        },
        "id": "9vN8W-pcTmZF",
        "outputId": "d1d054a6-11b5-4875-a790-7e12e74bc904"
      },
      "execution_count": 18,
      "outputs": [
        {
          "output_type": "stream",
          "name": "stdout",
          "text": [
            "root\n",
            " |-- Text: string (nullable = true)\n",
            " |-- label: string (nullable = true)\n",
            "\n"
          ]
        }
      ]
    },
    {
      "cell_type": "code",
      "source": [
        "# Number of Records\n",
        "\n",
        "accounts.count()"
      ],
      "metadata": {
        "colab": {
          "base_uri": "https://localhost:8080/"
        },
        "id": "8CbwZwkOUWCK",
        "outputId": "038bd850-151d-42b1-d029-d2e6a198a94b"
      },
      "execution_count": 19,
      "outputs": [
        {
          "output_type": "execute_result",
          "data": {
            "text/plain": [
              "24021"
            ]
          },
          "metadata": {},
          "execution_count": 19
        }
      ]
    },
    {
      "cell_type": "code",
      "source": [
        "# Reading JSON file\n",
        "\n",
        "anscombe = spark.read.option(\"header\", 'true').json('./sample_data/anscombe.json')"
      ],
      "metadata": {
        "id": "Eozr_DYBUCxw"
      },
      "execution_count": 28,
      "outputs": []
    },
    {
      "cell_type": "code",
      "source": [
        "print(anscombe.printSchema())\n",
        "\n",
        "anscombe"
      ],
      "metadata": {
        "colab": {
          "base_uri": "https://localhost:8080/"
        },
        "id": "pNyl0tH_UkR6",
        "outputId": "5cf32ab5-65fe-4d7c-a89b-d69c9f77534c"
      },
      "execution_count": 29,
      "outputs": [
        {
          "output_type": "stream",
          "name": "stdout",
          "text": [
            "root\n",
            " |-- Series: string (nullable = true)\n",
            " |-- X: double (nullable = true)\n",
            " |-- Y: double (nullable = true)\n",
            " |-- _corrupt_record: string (nullable = true)\n",
            "\n",
            "None\n"
          ]
        },
        {
          "output_type": "execute_result",
          "data": {
            "text/plain": [
              "DataFrame[Series: string, X: double, Y: double, _corrupt_record: string]"
            ]
          },
          "metadata": {},
          "execution_count": 29
        }
      ]
    },
    {
      "cell_type": "code",
      "source": [
        "anscombe.columns"
      ],
      "metadata": {
        "colab": {
          "base_uri": "https://localhost:8080/"
        },
        "id": "K7H_ktaWUmBN",
        "outputId": "c853c929-eada-40a1-966a-23f3ece351ec"
      },
      "execution_count": 30,
      "outputs": [
        {
          "output_type": "execute_result",
          "data": {
            "text/plain": [
              "['Series', 'X', 'Y', '_corrupt_record']"
            ]
          },
          "metadata": {},
          "execution_count": 30
        }
      ]
    },
    {
      "cell_type": "code",
      "source": [
        "# Group by Series\n",
        "anscombe_series = anscombe.groupby('Series').sum()"
      ],
      "metadata": {
        "id": "XXHiC15eVFwF"
      },
      "execution_count": 31,
      "outputs": []
    },
    {
      "cell_type": "code",
      "source": [
        "anscombe_series"
      ],
      "metadata": {
        "colab": {
          "base_uri": "https://localhost:8080/"
        },
        "id": "w2VsCBsUVg8h",
        "outputId": "36de2777-da15-413d-bc5d-3e459925f5cf"
      },
      "execution_count": 32,
      "outputs": [
        {
          "output_type": "execute_result",
          "data": {
            "text/plain": [
              "DataFrame[Series: string, sum(X): double, sum(Y): double]"
            ]
          },
          "metadata": {},
          "execution_count": 32
        }
      ]
    },
    {
      "cell_type": "code",
      "source": [
        "# Joining sum dataset with original dataset\n",
        "\n",
        "with_sum = anscombe.join(anscombe_series, 'Series', 'inner')"
      ],
      "metadata": {
        "id": "raZ7Crj3Vhrn"
      },
      "execution_count": 33,
      "outputs": []
    },
    {
      "cell_type": "code",
      "source": [
        "with_sum"
      ],
      "metadata": {
        "colab": {
          "base_uri": "https://localhost:8080/"
        },
        "id": "QSZP2N-pV1Zp",
        "outputId": "b81b447c-aab2-4fac-f117-30b58973ba35"
      },
      "execution_count": 34,
      "outputs": [
        {
          "output_type": "execute_result",
          "data": {
            "text/plain": [
              "DataFrame[Series: string, X: double, Y: double, _corrupt_record: string, sum(X): double, sum(Y): double]"
            ]
          },
          "metadata": {},
          "execution_count": 34
        }
      ]
    },
    {
      "cell_type": "code",
      "source": [
        "with_sum.show(5)"
      ],
      "metadata": {
        "colab": {
          "base_uri": "https://localhost:8080/"
        },
        "id": "jw_MV9suV2Bn",
        "outputId": "653a66c3-7de2-490a-a63c-93e0876d6b8b"
      },
      "execution_count": 38,
      "outputs": [
        {
          "output_type": "stream",
          "name": "stdout",
          "text": [
            "+------+----+----+---------------+------+------+\n",
            "|Series|   X|   Y|_corrupt_record|sum(X)|sum(Y)|\n",
            "+------+----+----+---------------+------+------+\n",
            "|     I|10.0|8.04|           NULL|  99.0|  82.5|\n",
            "|     I| 8.0|6.95|           NULL|  99.0|  82.5|\n",
            "|     I|13.0|7.58|           NULL|  99.0|  82.5|\n",
            "|     I| 9.0|8.81|           NULL|  99.0|  82.5|\n",
            "|     I|11.0|8.33|           NULL|  99.0|  82.5|\n",
            "+------+----+----+---------------+------+------+\n",
            "only showing top 5 rows\n",
            "\n"
          ]
        }
      ]
    },
    {
      "cell_type": "code",
      "source": [
        "# applying filter method\n",
        "\n",
        "series_I = with_sum.filter(with_sum.Series == 'I')"
      ],
      "metadata": {
        "id": "-DWtPJPJWBCR"
      },
      "execution_count": 39,
      "outputs": []
    },
    {
      "cell_type": "code",
      "source": [
        "series_I.count()"
      ],
      "metadata": {
        "colab": {
          "base_uri": "https://localhost:8080/"
        },
        "id": "o_pcWYuLWYp9",
        "outputId": "059cbb3e-9db6-44d2-fbe4-07ef882a7e5c"
      },
      "execution_count": 40,
      "outputs": [
        {
          "output_type": "execute_result",
          "data": {
            "text/plain": [
              "11"
            ]
          },
          "metadata": {},
          "execution_count": 40
        }
      ]
    },
    {
      "cell_type": "code",
      "source": [
        "series_I.show()"
      ],
      "metadata": {
        "colab": {
          "base_uri": "https://localhost:8080/"
        },
        "id": "H5362_d0WZs-",
        "outputId": "333218c4-5084-42f7-bfa6-a97ca43878b9"
      },
      "execution_count": 42,
      "outputs": [
        {
          "output_type": "stream",
          "name": "stdout",
          "text": [
            "+------+----+-----+---------------+------+------+\n",
            "|Series|   X|    Y|_corrupt_record|sum(X)|sum(Y)|\n",
            "+------+----+-----+---------------+------+------+\n",
            "|     I|10.0| 8.04|           NULL|  99.0|  82.5|\n",
            "|     I| 8.0| 6.95|           NULL|  99.0|  82.5|\n",
            "|     I|13.0| 7.58|           NULL|  99.0|  82.5|\n",
            "|     I| 9.0| 8.81|           NULL|  99.0|  82.5|\n",
            "|     I|11.0| 8.33|           NULL|  99.0|  82.5|\n",
            "|     I|14.0| 9.96|           NULL|  99.0|  82.5|\n",
            "|     I| 6.0| 7.24|           NULL|  99.0|  82.5|\n",
            "|     I| 4.0| 4.26|           NULL|  99.0|  82.5|\n",
            "|     I|12.0|10.84|           NULL|  99.0|  82.5|\n",
            "|     I| 7.0| 4.81|           NULL|  99.0|  82.5|\n",
            "|     I| 5.0| 5.68|           NULL|  99.0|  82.5|\n",
            "+------+----+-----+---------------+------+------+\n",
            "\n"
          ]
        }
      ]
    },
    {
      "cell_type": "code",
      "source": [],
      "metadata": {
        "id": "NWC7My8wWjZX"
      },
      "execution_count": null,
      "outputs": []
    }
  ]
}